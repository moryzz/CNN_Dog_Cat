{
 "cells": [
  {
   "cell_type": "code",
   "execution_count": null,
   "metadata": {},
   "outputs": [],
   "source": [
    "#Importieren der notwendigen Pakete\n",
    "#NumPy für Arrays\n",
    "import numpy as np\n",
    "#Matplotlib für graphische Darstellungen\n",
    "import matplotlib.pyplot as plt\n",
    "#Zugriff auf das Betriebssystem für aufrufen der Ordner\n",
    "import os\n",
    "#Automatisierung von Kopierprozessen\n",
    "import shutil\n",
    "#Bildverarbeitung\n",
    "import cv2"
   ]
  },
  {
   "cell_type": "code",
   "execution_count": null,
   "metadata": {},
   "outputs": [],
   "source": [
    "#Erstellen der Ordner für Training/Validierung von Hunden/Katzen\n",
    "os.makedirs(\"./files/training/dog\", exist_ok=True)\n",
    "os.makedirs(\"./files/training/cat\", exist_ok=True)\n",
    "os.makedirs(\"./files/validate/dog\", exist_ok=True)\n",
    "os.makedirs(\"./files/validate/cat\", exist_ok=True)\n",
    "\n",
    "#Pfad für alle Bilder festlegen\n",
    "alle_bilder = os.listdir(\"./data\")\n",
    "\n",
    "#Hundebilder von Katzenbildern unterscheiden\n",
    "hunde = list(filter(lambda image: 'dog' in image, alle_bilder))\n",
    "katze = list(filter(lambda image: 'cat' in image, alle_bilder))\n",
    "\n",
    "#Anzahl der Hunde- und Katzenbilder insgesamt\n",
    "len(hunde) #12.500\n",
    "len(katze) #12.500\n",
    "\n",
    "#Festlegen des Validation Index von 20%\n",
    "validation_index = len(hunde) - len(hunde) * 0.2\n",
    "\n",
    "\n",
    "#Laden der Bilder in die Variablen nach definiertem Index\n",
    "training_hunde = hunde[:int(validation_index)]\n",
    "training_katze = katze[:int(validation_index)]\n",
    "validation_hunde = hunde[int(validation_index):]\n",
    "validation_katze = katze[int(validation_index):]\n",
    "\n",
    "#Funktion zum kopieren der jeweiligen Anzahl der Bilder in die entsprechendem Ordner\n",
    "def ordner_zuweisen(bilder, ordner):\n",
    "    for bild in bilder:\n",
    "        shutil.copyfile(f'./data/{bild}', f'{ordner}/{bild}')\n"
   ]
  },
  {
   "cell_type": "code",
   "execution_count": null,
   "metadata": {},
   "outputs": [],
   "source": [
    "#Ausführen der Funktion in die jeweiligen Ordner\n",
    "ordner_zuweisen(training_hunde, './files/training/dog')\n",
    "ordner_zuweisen(training_katze, './files/training/cat')\n",
    "ordner_zuweisen(validation_hunde, './files/validate/dog')\n",
    "ordner_zuweisen(validation_katze, './files/validate/cat')"
   ]
  },
  {
   "cell_type": "code",
   "execution_count": null,
   "metadata": {},
   "outputs": [],
   "source": [
    "#Zugriff auf die Ordner\n",
    "cat = os.listdir(\"./files/training/cat\")\n",
    "cat_val = os.listdir(\"./files/validate/cat\")\n",
    "dog = os.listdir(\"./files/training/dog\")\n",
    "dog_val = os.listdir(\"files/validate/dog\");\n",
    "\n",
    "# Ausgabe Anzahl Traininsbilder\n",
    "len(cat)\n",
    "len(cat_val)\n",
    "len(dog)\n",
    "len(dog_val)"
   ]
  },
  {
   "cell_type": "code",
   "execution_count": null,
   "metadata": {},
   "outputs": [],
   "source": [
    "#Festlegen der Verzeichnisse für die Trainings- und Validierungsdaten\n",
    "DIR_Training= \"./files/training\"\n",
    "DIR_Validate = \"./files/validate\"\n",
    "\n",
    "#Festlegen der Klassen\n",
    "Tiere = [\"dog\", \"cat\"]\n",
    "\n",
    "#Anzeigen eines Testbildes zur Überprüfung\n",
    "for tiere in Tiere:\n",
    "    path = os.path.join(DIR_Training, tiere) \n",
    "    for img in os.listdir(path):\n",
    "        img_array = cv2.imread(os.path.join(path,img))\n",
    "        plt.imshow(img_array)\n",
    "        plt.show()\n",
    "        break\n",
    "    break\n",
    "        \n"
   ]
  },
  {
   "cell_type": "code",
   "execution_count": null,
   "metadata": {},
   "outputs": [],
   "source": [
    "#Festlegen der Bildgröße zum resizen\n",
    "bildgröße = 100"
   ]
  },
  {
   "cell_type": "code",
   "execution_count": null,
   "metadata": {},
   "outputs": [],
   "source": [
    "#Festlegen von Arrays\n",
    "training_data = []\n",
    "validate_data = []\n",
    "\n",
    "#Funktion definieren zum Kopieren der Bilder in die Arrays und resize\n",
    "def create_training_data():\n",
    "    for tiere in Tiere:\n",
    "        path = os.path.join(DIR_Training, tiere) \n",
    "        class_num = Tiere.index(tiere)\n",
    "        for img in os.listdir(path):\n",
    "            img_array = cv2.imread(os.path.join(path,img))\n",
    "            new_array = cv2.resize(img_array, (bildgröße,bildgröße))\n",
    "            training_data.append([new_array, class_num])\n",
    "\n",
    "def create_validation_data():\n",
    "    for tiere in Tiere:\n",
    "        path = os.path.join(DIR_Validate, tiere) \n",
    "        class_num = Tiere.index(tiere)\n",
    "        for img in os.listdir(path):\n",
    "            img_array = cv2.imread(os.path.join(path,img))\n",
    "            new_array = cv2.resize(img_array, (bildgröße,bildgröße))\n",
    "            validate_data.append([new_array, class_num])\n",
    "\n",
    "#Ausführen der Funktionen\n",
    "create_training_data()\n",
    "create_validation_data()"
   ]
  },
  {
   "cell_type": "code",
   "execution_count": null,
   "metadata": {},
   "outputs": [],
   "source": [
    "#Anzahl der insgesamten Trainings- und Validationsbilder ausgeben\n",
    "print(len(training_data))\n",
    "print(len(validate_data))"
   ]
  },
  {
   "cell_type": "code",
   "execution_count": null,
   "metadata": {},
   "outputs": [],
   "source": [
    "#Import random\n",
    "import random\n",
    "\n",
    "#Shuffeln der Bilder um nicht 10.000 bzw. 2500 Hunde- oder Katzenbilder am Stück zu haben\n",
    "random.shuffle(training_data)\n",
    "random.shuffle(validate_data)"
   ]
  },
  {
   "cell_type": "code",
   "execution_count": null,
   "metadata": {},
   "outputs": [],
   "source": [
    "#Erstellen leerer Arrays für die Training und Validation\n",
    "# X Bildwerte\n",
    "# Y Hund oder Katze (0,1)\n",
    "X_train = []\n",
    "y_train = []\n",
    "\n",
    "X_val = []\n",
    "y_val = []\n",
    "\n",
    "#Befüllen der Listen\n",
    "for features, label in training_data:\n",
    "    X_train.append(features)\n",
    "    y_train.append(label)\n",
    "\n",
    "for features, label in validate_data:\n",
    "    X_val.append(features)\n",
    "    y_val.append(label)\n",
    "\n",
    "#Reshape, da Tensorflow das Format benötigt\n",
    "# -1 wird benötigt\n",
    "# Bildgröße Höhe und Breite\n",
    "# 3 Farbebenen rot,gelb,grün\n",
    "X_train = np.array(X_train).reshape(-1, bildgröße, bildgröße, 3)\n",
    "X_val = np.array(X_val).reshape(-1, bildgröße, bildgröße, 3)\n",
    "y_train = np.array(y_train)\n",
    "y_val = np.array(y_val)\n"
   ]
  },
  {
   "cell_type": "code",
   "execution_count": null,
   "metadata": {},
   "outputs": [],
   "source": [
    "#Import der Tensorflow Pakete\n",
    "import tensorflow as tf\n",
    "from tensorflow import keras\n",
    "from tensorflow.keras import layers\n",
    "from keras.layers import Dense"
   ]
  },
  {
   "cell_type": "code",
   "execution_count": null,
   "metadata": {},
   "outputs": [],
   "source": [
    "#Alle Pixelwerte werden durch 255 geteilt\n",
    "X_train = X_train/255.0\n",
    "X_val = X_val/255.0\n",
    "\n",
    "# Model erstellen\n",
    "model = keras.Sequential([\n",
    "    keras.layers.Conv2D(\n",
    "        32,(3,3),activation='relu',input_shape= X_train.shape[1:]),\n",
    "    keras.layers.MaxPool2D(pool_size=(2,2)),\n",
    "    keras.layers.Dropout(0.2),\n",
    "    keras.layers.Conv2D(\n",
    "       64,(3,3),activation='relu'),\n",
    "    keras.layers.MaxPool2D(pool_size=(2,2)),\n",
    "    keras.layers.Dropout(0.2),\n",
    "    keras.layers.Conv2D(\n",
    "        128,(3,3),activation='relu'),\n",
    "    keras.layers.MaxPool2D(pool_size=(2,2)),\n",
    "    keras.layers.Dropout(0.2),\n",
    "    keras.layers.Conv2D(\n",
    "        256,(3,3),activation='relu'),\n",
    "    keras.layers.MaxPool2D(pool_size=(2,2)),\n",
    "    keras.layers.Dropout(0.2),\n",
    "    keras.layers.Conv2D(\n",
    "        512,(3,3),activation='relu'),\n",
    "    keras.layers.MaxPool2D(pool_size=(2,2)),\n",
    "    keras.layers.Dropout(0.2),\n",
    "    keras.layers.Flatten(),\n",
    "    keras.layers.Dense(512, activation='relu'), \n",
    "    keras.layers.Dense(1, activation='sigmoid')\n",
    "    ])"
   ]
  },
  {
   "cell_type": "code",
   "execution_count": null,
   "metadata": {},
   "outputs": [],
   "source": [
    "#Model kompilieren\n",
    "model.compile(optimizer='adam', loss='binary_crossentropy', metrics=['accuracy'])\n",
    "#Zusammenfassung des Models ausgeben\n",
    "model.summary()"
   ]
  },
  {
   "cell_type": "code",
   "execution_count": null,
   "metadata": {},
   "outputs": [],
   "source": [
    "#Trainieren \n",
    "cnn_model = model.fit(X_train, y_train, validation_data=(X_val, y_val), epochs=20, batch_size=48)"
   ]
  },
  {
   "cell_type": "code",
   "execution_count": null,
   "metadata": {},
   "outputs": [],
   "source": [
    "## Auswertung / Graphen zur Veranschaulichung\n",
    "\n",
    "accuracy_evaluation = model.evaluate(X_val, y_val)\n",
    "\n",
    "print ('val loss: ', accuracy_evaluation[0])\n",
    "print ('val accuracy: ', accuracy_evaluation[1])\n",
    "\n",
    "accuracy_evaluation_train = model.evaluate(X_train, y_train)\n",
    "\n",
    "print ('train loss: ', accuracy_evaluation_train[0])\n",
    "print ('train accuracy: ', accuracy_evaluation_train[1])"
   ]
  },
  {
   "cell_type": "code",
   "execution_count": null,
   "metadata": {},
   "outputs": [],
   "source": [
    "#Daten des Trainings abrufen\n",
    "accuracy = cnn_model.history['accuracy']\n",
    "val_accuracy = cnn_model.history['val_accuracy']\n",
    "loss = cnn_model.history['loss']\n",
    "val_loss = cnn_model.history['val_loss']\n",
    "\n",
    "epochs_range = range(len(accuracy))\n",
    "\n",
    "#Erstellen der Grafik für Trainings- und Validations Accuracy\n",
    "plt.figure(figsize=(15, 15))\n",
    "plt.subplot(2, 2, 1)\n",
    "plt.plot(epochs_range, accuracy, label='Training Accuracy')\n",
    "plt.plot(epochs_range, val_accuracy, label='Validation Accuracy')\n",
    "plt.legend(loc='lower right')\n",
    "plt.title('Training and Validation Accuracy')\n",
    "\n",
    "#Erstellen der Grafik für Training und Validation Loss\n",
    "plt.subplot(2, 2, 2)\n",
    "plt.plot(epochs_range, loss, label='Training Loss')\n",
    "plt.plot(epochs_range, val_loss, label='Validation Loss')\n",
    "plt.legend(loc='upper right')\n",
    "plt.title('Training and Validation Loss')\n",
    "plt.show()"
   ]
  },
  {
   "cell_type": "code",
   "execution_count": null,
   "metadata": {},
   "outputs": [],
   "source": [
    "#Von jedem Layer den Output anzeigen\n",
    "from keract import get_activations, display_activations\n",
    "keract_inputs = X_val[:1]\n",
    "keract_targets = y_val[:1]\n",
    "activations = get_activations(model, keract_inputs)\n",
    "display_activations(activations, save=True)"
   ]
  }
 ],
 "metadata": {
  "interpreter": {
   "hash": "424eb0789e167ebdaa8de43be0bd2fb1aa4569d47efef6ac50efbd2cc373b122"
  },
  "kernelspec": {
   "display_name": "Python 3.8.8 64-bit ('base': conda)",
   "name": "python3"
  },
  "language_info": {
   "codemirror_mode": {
    "name": "ipython",
    "version": 3
   },
   "file_extension": ".py",
   "mimetype": "text/x-python",
   "name": "python",
   "nbconvert_exporter": "python",
   "pygments_lexer": "ipython3",
   "version": "3.8.8"
  },
  "orig_nbformat": 4
 },
 "nbformat": 4,
 "nbformat_minor": 2
}
